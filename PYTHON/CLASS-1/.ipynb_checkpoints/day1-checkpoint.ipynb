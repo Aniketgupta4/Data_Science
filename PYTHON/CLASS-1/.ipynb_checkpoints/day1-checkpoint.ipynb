{
 "cells": [
  {
   "cell_type": "code",
   "execution_count": 3,
   "id": "8baf1736-2658-4b04-b3cc-a764ae97b074",
   "metadata": {},
   "outputs": [],
   "source": [
    "#python"
   ]
  },
  {
   "cell_type": "code",
   "execution_count": 11,
   "id": "fa7ebdc0-17ed-41fa-8dba-71ab8e6b9b3a",
   "metadata": {},
   "outputs": [
    {
     "name": "stdout",
     "output_type": "stream",
     "text": [
      "hello world\n",
      "yoyo\n",
      "98765432\n",
      "True\n",
      "2.1\n",
      "hello 1 True 1.5\n",
      "hello-1-True-1.5\n",
      "hello-world\n"
     ]
    }
   ],
   "source": [
    "1) #print output\n",
    "\n",
    "print(\"hello world\")\n",
    "print('yoyo')\n",
    "print(98765432)\n",
    "print(True)\n",
    "print(2.1)\n",
    "\n",
    "print(\"hello\",1,True,1.5)\n",
    "\n",
    "# sep=\"\"\n",
    "print(\"hello\",1,True,1.5, sep=\"-\")\n",
    "\n",
    "#end=\"\"\n",
    "print(\"hello\",end=\"-\")\n",
    "print(\"world\")"
   ]
  },
  {
   "cell_type": "code",
   "execution_count": null,
   "id": "80009464-4964-4885-8cff-be2d29504751",
   "metadata": {},
   "outputs": [],
   "source": [
    "  "
   ]
  },
  {
   "cell_type": "code",
   "execution_count": 28,
   "id": "e766294f-e4eb-4899-b5ca-48bf7fdd38d8",
   "metadata": {},
   "outputs": [
    {
     "name": "stdout",
     "output_type": "stream",
     "text": [
      "1\n",
      "1e+308\n",
      "2.1\n",
      "1e+308\n",
      "True\n",
      "False\n",
      "hello\n",
      "(5+6j)\n",
      "[1, 2, 3, 4, 5]\n",
      "(1, 2, 3, 4, 5)\n",
      "{1, 2, 3, 4, 5}\n",
      "{'name': 'shan', 'gender': 'male', 'age': 19}\n"
     ]
    },
    {
     "data": {
      "text/plain": [
       "bool"
      ]
     },
     "execution_count": 28,
     "metadata": {},
     "output_type": "execute_result"
    }
   ],
   "source": [
    "#Data types\n",
    "\n",
    "# 1) integer -> handle upto print(1e308)\n",
    "\n",
    "print(1)\n",
    "print(1e308)\n",
    "\n",
    "# 2) float -> handle upto print(1e308)\n",
    "\n",
    "print(2.1)\n",
    "print(1e308)\n",
    "\n",
    "# 3) boolean\n",
    "\n",
    "print(True)\n",
    "print(False)\n",
    "\n",
    "# 4) string -> char ni hota hai in python\n",
    "\n",
    "print(\"hello\")\n",
    "\n",
    "#5) complex \n",
    "\n",
    "print(5+6j)\n",
    "\n",
    "#6) list\n",
    "\n",
    "print([1,2,3,4,5])\n",
    "\n",
    "# 7) tuple\n",
    "\n",
    "print((1,2,3,4,5))\n",
    "\n",
    "# 8) sets\n",
    "\n",
    "print({1,2,3,4,5})\n",
    "\n",
    "# 9) dictionary -> key value pair\n",
    "\n",
    "print({'name':'shan','gender':'male','age':19})\n",
    "\n",
    "\n",
    "# type() function\n",
    "\n",
    "type(4)\n",
    "type(True)"
   ]
  },
  {
   "cell_type": "code",
   "execution_count": null,
   "id": "3564ac40-607a-4ace-a3f5-092f97025832",
   "metadata": {},
   "outputs": [],
   "source": []
  },
  {
   "cell_type": "code",
   "execution_count": 26,
   "id": "d32085b1-40e0-4a05-8359-8937caccf973",
   "metadata": {},
   "outputs": [],
   "source": [
    "# variables"
   ]
  },
  {
   "cell_type": "code",
   "execution_count": 33,
   "id": "dbcf97b4-d459-43ce-b7f9-a7bb5b483dec",
   "metadata": {},
   "outputs": [
    {
     "name": "stdout",
     "output_type": "stream",
     "text": [
      "aniket\n",
      "2 4\n",
      "5\n",
      "name\n",
      "1 2 3\n",
      "1 1 1\n"
     ]
    }
   ],
   "source": [
    "name = \"aniket\"\n",
    "print(name)\n",
    "\n",
    "a = 2\n",
    "b = 4\n",
    "print(a,b)\n",
    "\n",
    "# dymanic typing -> ki don't tell data type -> static typing ki data type batao -> ex: int a = 5\n",
    "a = 5\n",
    "\n",
    "# dynamic binding -> don't have fix data type change hota rehta hai datatype -> static binding -> ki int a = 5 so ab char a = 'a' ni kar shakte hai\n",
    "a = 5\n",
    "print(a)\n",
    "\n",
    "a = \"name\"\n",
    "print(a)\n",
    "\n",
    "# value to initialize value -> styling way\n",
    "a,b,c = 1,2,3\n",
    "print(a,b,c)\n",
    "\n",
    "a = b = c = 1\n",
    "print(a,b,c)"
   ]
  },
  {
   "cell_type": "code",
   "execution_count": null,
   "id": "09f4568a-67b5-4ae1-82d6-9070831fd32c",
   "metadata": {},
   "outputs": [],
   "source": []
  },
  {
   "cell_type": "code",
   "execution_count": 35,
   "id": "eddefbbd-40eb-4109-936e-1686ab9ff566",
   "metadata": {},
   "outputs": [],
   "source": [
    "#compilation -> process to convert code into binary -> by compiler(jyada jyada) or interpreter(1 by 1)\n",
    "# compiler is fast\n",
    "\n",
    "# keywords(32 reserved words not use as variable name) \n",
    "\n",
    "# identifiers(naming of variable)\n",
    "     # rules:\n",
    "              # not start with digit , use _ only , not use 32 keywords"
   ]
  },
  {
   "cell_type": "code",
   "execution_count": null,
   "id": "36c926ed-149d-45f6-a70b-393e4ebcf411",
   "metadata": {},
   "outputs": [],
   "source": [
    "  "
   ]
  },
  {
   "cell_type": "code",
   "execution_count": 37,
   "id": "05b8e97d-3be3-48c9-8c0e-e6497e0b4685",
   "metadata": {},
   "outputs": [
    {
     "name": "stdin",
     "output_type": "stream",
     "text": [
      "write your name df\n"
     ]
    },
    {
     "data": {
      "text/plain": [
       "'df'"
      ]
     },
     "execution_count": 37,
     "metadata": {},
     "output_type": "execute_result"
    }
   ],
   "source": [
    "# input\n",
    "\n",
    "input()\n",
    "input(\"write your name\")"
   ]
  },
  {
   "cell_type": "code",
   "execution_count": null,
   "id": "b2d79eb2-0723-420b-8cc4-e649d38c38ce",
   "metadata": {},
   "outputs": [],
   "source": []
  },
  {
   "cell_type": "code",
   "execution_count": 48,
   "id": "aab3f387-e42e-49f7-838a-a0cd4118a7b8",
   "metadata": {},
   "outputs": [
    {
     "name": "stdin",
     "output_type": "stream",
     "text": [
      "enter first number 3\n",
      "enter second number 4\n"
     ]
    },
    {
     "name": "stdout",
     "output_type": "stream",
     "text": [
      "<class 'int'> <class 'int'>\n",
      "7\n"
     ]
    }
   ],
   "source": [
    "# q1 -> take input store in variable add and print result\n",
    "\n",
    "# num1 = input(\"enter first number\")\n",
    "# num2 = input(\"enter second number\") \n",
    "# print(type(num1),type(num2)) \n",
    "# sum = int(num1) + int(num2)\n",
    "# print(sum)\n",
    "\n",
    "#  or\n",
    "\n",
    "num1 = int(input(\"enter first number\"))\n",
    "num2 = int(input(\"enter second number\")) \n",
    "print(type(num1),type(num2)) \n",
    "sum = num1 + num2\n",
    "print(sum)"
   ]
  },
  {
   "cell_type": "code",
   "execution_count": 46,
   "id": "fb20fa0c-ae4e-4b47-9993-1acf2b457465",
   "metadata": {},
   "outputs": [
    {
     "data": {
      "text/plain": [
       "int"
      ]
     },
     "execution_count": 46,
     "metadata": {},
     "output_type": "execute_result"
    }
   ],
   "source": [
    "# type conversion -> implicit (khud se )\n",
    "\n",
    "#-> explicit -> change in new one original effect ni hota hai\n",
    "\n",
    "int(5.1)\n",
    "type(int(5.1))\n",
    "\n",
    "# not work for int(2+4j) complex"
   ]
  },
  {
   "cell_type": "code",
   "execution_count": null,
   "id": "058462e1-3fdd-4022-be5d-d781cf374139",
   "metadata": {},
   "outputs": [],
   "source": []
  },
  {
   "cell_type": "code",
   "execution_count": 58,
   "id": "c0c21376-21a6-4f7e-ae8f-e85692581049",
   "metadata": {},
   "outputs": [
    {
     "name": "stdout",
     "output_type": "stream",
     "text": [
      "10\n",
      "10.5\n",
      "0.0 3.14\n",
      "5 2\n",
      "None\n"
     ]
    }
   ],
   "source": [
    " # literals -> value in differnet forms\n",
    "\n",
    "a = 0b1010  # binary\n",
    "print(a)\n",
    "\n",
    "b = 10.5  # float\n",
    "print(b)\n",
    "\n",
    "c = 3.14j   # complex\n",
    "print(c.real,c.imag)\n",
    "\n",
    "\n",
    "\n",
    "# ex\n",
    "\n",
    "\n",
    "# '' \"\" ''' ''' used in python\n",
    "# unicode -> u\"\\u0001f600\" -> for emojis and char\n",
    "# raw_str = r\"raw \\n string\" -> to print \\n\n",
    "\n",
    "a = True + 4\n",
    "b = False +  2\n",
    "\n",
    "print(a,b)\n",
    "\n",
    "\n",
    "c = None # decalre karlo then use further\n",
    "print(c)"
   ]
  },
  {
   "cell_type": "code",
   "execution_count": null,
   "id": "13991cbb-8ef3-4e48-a717-4ca14c141dc2",
   "metadata": {},
   "outputs": [],
   "source": []
  },
  {
   "cell_type": "code",
   "execution_count": 57,
   "id": "c5e50aaf-dcc2-4d73-8c33-9a7d5318b799",
   "metadata": {},
   "outputs": [
    {
     "name": "stdout",
     "output_type": "stream",
     "text": [
      "5 2\n"
     ]
    }
   ],
   "source": []
  },
  {
   "cell_type": "code",
   "execution_count": null,
   "id": "7b1e084f-43c5-4029-985c-53770fe9c734",
   "metadata": {},
   "outputs": [],
   "source": []
  },
  {
   "cell_type": "code",
   "execution_count": null,
   "id": "d0fb5629-7775-47cb-9f37-56a4665da244",
   "metadata": {},
   "outputs": [],
   "source": []
  }
 ],
 "metadata": {
  "kernelspec": {
   "display_name": "Python 3 (ipykernel)",
   "language": "python",
   "name": "python3"
  },
  "language_info": {
   "codemirror_mode": {
    "name": "ipython",
    "version": 3
   },
   "file_extension": ".py",
   "mimetype": "text/x-python",
   "name": "python",
   "nbconvert_exporter": "python",
   "pygments_lexer": "ipython3",
   "version": "3.13.2"
  }
 },
 "nbformat": 4,
 "nbformat_minor": 5
}
